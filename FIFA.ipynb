{
 "cells": [
  {
   "cell_type": "code",
   "execution_count": 1,
   "id": "d323e6a9-b511-4591-9bda-314b1bc946b8",
   "metadata": {},
   "outputs": [
    {
     "name": "stdout",
     "output_type": "stream",
     "text": [
      "                Name  Age Nationality  Overall  Acceleration  Aggression  \\\n",
      "0  Cristiano Ronaldo   32    Portugal     94.0          89.0        63.0   \n",
      "1           L. Messi   30   Argentina     93.0          92.0        48.0   \n",
      "2             Neymar   25      Brazil     92.0          94.0        56.0   \n",
      "3          L. Suárez   30     Uruguay     92.0          88.0        78.0   \n",
      "4           M. Neuer   31     Germany     92.0          58.0        29.0   \n",
      "\n",
      "   Agility  Balance  Ball control  Composure  ...  Shot power  Sliding tackle  \\\n",
      "0     89.0     63.0          93.0       95.0  ...        94.0            23.0   \n",
      "1     90.0     95.0          95.0       96.0  ...        85.0            26.0   \n",
      "2     96.0     82.0          95.0       92.0  ...        80.0            33.0   \n",
      "3     86.0     60.0          91.0       83.0  ...        87.0            38.0   \n",
      "4     52.0     35.0          48.0       70.0  ...        25.0            11.0   \n",
      "\n",
      "   Sprint speed  Stamina  Standing tackle  Strength  Vision  Volleys  \\\n",
      "0          91.0     92.0             31.0      80.0    85.0     88.0   \n",
      "1          87.0     73.0             28.0      59.0    90.0     85.0   \n",
      "2          90.0     78.0             24.0      53.0    80.0     83.0   \n",
      "3          77.0     89.0             45.0      80.0    84.0     88.0   \n",
      "4          61.0     44.0             10.0      83.0    70.0     11.0   \n",
      "\n",
      "   Preferred Positions  Preferred Positions Type  \n",
      "0               ST LW                    Forward  \n",
      "1                  RW                    Forward  \n",
      "2                  LW                    Forward  \n",
      "3                  ST                    Forward  \n",
      "4                  GK                 GoalKeeper  \n",
      "\n",
      "[5 rows x 40 columns]\n"
     ]
    }
   ],
   "source": [
    "import pandas as pd\n",
    "\n",
    "# Load the CSV file into a pandas DataFrame with a different encoding\n",
    "df = pd.read_csv('football_players.csv', encoding='ISO-8859-1')\n",
    "\n",
    "# Display the first few rows of the DataFrame to understand its structure\n",
    "print(df.head())"
   ]
  },
  {
   "cell_type": "code",
   "execution_count": 2,
   "id": "b54ab179-a8af-4106-9dfd-943faf289110",
   "metadata": {},
   "outputs": [
    {
     "name": "stdout",
     "output_type": "stream",
     "text": [
      "The most common Overall score is: 66.0\n"
     ]
    }
   ],
   "source": [
    "# Determine the most common 'Overall' score\n",
    "most_common_overall = df['Overall'].mode()[0]\n",
    "print(f'The most common Overall score is: {most_common_overall}')"
   ]
  },
  {
   "cell_type": "code",
   "execution_count": 4,
   "id": "57d7729b-49c7-42bb-9e0d-0df117e86018",
   "metadata": {},
   "outputs": [
    {
     "name": "stderr",
     "output_type": "stream",
     "text": [
      "C:\\Users\\ADMIN\\AppData\\Local\\Temp\\ipykernel_6660\\1313088427.py:18: SettingWithCopyWarning: \n",
      "A value is trying to be set on a copy of a slice from a DataFrame.\n",
      "Try using .loc[row_indexer,col_indexer] = value instead\n",
      "\n",
      "See the caveats in the documentation: https://pandas.pydata.org/pandas-docs/stable/user_guide/indexing.html#returning-a-view-versus-a-copy\n",
      "  cb_players['Class'] = cb_players['Overall'].apply(classify_player)\n"
     ]
    },
    {
     "name": "stdout",
     "output_type": "stream",
     "text": [
      "Top 5 most important features:\n",
      "Overall               0.383625\n",
      "Standing tackle       0.130194\n",
      "Marking               0.096120\n",
      "Interceptions         0.090903\n",
      "Sliding tackle        0.068036\n",
      "Reactions             0.049961\n",
      "Heading accuracy      0.037788\n",
      "Composure             0.033894\n",
      "Aggression            0.018604\n",
      "Long passing          0.013325\n",
      "Short passing         0.012387\n",
      "Ball control          0.009920\n",
      "Strength              0.006696\n",
      "Shot power            0.005011\n",
      "Age                   0.003243\n",
      "Dribbling             0.003016\n",
      "Crossing              0.002877\n",
      "Jumping               0.002653\n",
      "Vision                0.002651\n",
      "Long shots            0.002469\n",
      "Stamina               0.002375\n",
      "Curve                 0.002320\n",
      "Free kick accuracy    0.002041\n",
      "Penalties             0.002017\n",
      "Sprint speed          0.001914\n",
      "Finishing             0.001761\n",
      "Volleys               0.001748\n",
      "Positioning           0.001740\n",
      "Balance               0.001625\n",
      "Acceleration          0.001582\n",
      "Agility               0.001542\n",
      "GK handling           0.001346\n",
      "GK diving             0.001313\n",
      "GK kicking            0.001154\n",
      "GK reflexes           0.001148\n",
      "GK positioning        0.001002\n",
      "dtype: float64\n"
     ]
    }
   ],
   "source": [
    "from sklearn.ensemble import RandomForestClassifier\n",
    "from sklearn.model_selection import train_test_split\n",
    "from sklearn.preprocessing import LabelEncoder\n",
    "from sklearn.metrics import classification_report\n",
    "\n",
    "# Step 1: Create a subset of players who can play in central defence (CB)\n",
    "cb_players = df[df['Preferred Positions'].str.contains('CB', na=False)]\n",
    "\n",
    "# Step 2: Classify these players into three categories based on their overall score\n",
    "def classify_player(overall):\n",
    "    if overall >= 80:\n",
    "        return 'World Class'\n",
    "    elif 70 <= overall < 80:\n",
    "        return 'Good'\n",
    "    else:\n",
    "        return 'Mediocre'\n",
    "\n",
    "cb_players['Class'] = cb_players['Overall'].apply(classify_player)\n",
    "\n",
    "# Step 3: Prepare the data for the Random Forest classifier\n",
    "X = cb_players.drop(columns=['Name', 'Nationality', 'Preferred Positions', 'Preferred Positions Type', 'Class'])\n",
    "y = cb_players['Class']\n",
    "\n",
    "# Convert categorical features to numeric\n",
    "X = X.apply(pd.to_numeric, errors='coerce')\n",
    "X.fillna(0, inplace=True)\n",
    "\n",
    "# Encode the target labels\n",
    "label_encoder = LabelEncoder()\n",
    "y = label_encoder.fit_transform(y)\n",
    "\n",
    "# Step 4: Train the Random Forest classifier\n",
    "rf = RandomForestClassifier(n_estimators=500, random_state=1971)\n",
    "rf.fit(X, y)\n",
    "\n",
    "# Step 5: Identify the most important features\n",
    "feature_importances = rf.feature_importances_\n",
    "features = X.columns\n",
    "important_features = pd.Series(feature_importances, index=features).sort_values(ascending=False)\n",
    "\n",
    "# Print the top 5 most important features\n",
    "print(\"Top 5 most important features:\")\n",
    "print(important_features)"
   ]
  },
  {
   "cell_type": "code",
   "execution_count": 5,
   "id": "832092ae-bf1c-421e-b247-ecff25f5c200",
   "metadata": {},
   "outputs": [
    {
     "name": "stderr",
     "output_type": "stream",
     "text": [
      "C:\\Users\\ADMIN\\AppData\\Local\\Temp\\ipykernel_6660\\541513566.py:17: SettingWithCopyWarning: \n",
      "A value is trying to be set on a copy of a slice from a DataFrame.\n",
      "Try using .loc[row_indexer,col_indexer] = value instead\n",
      "\n",
      "See the caveats in the documentation: https://pandas.pydata.org/pandas-docs/stable/user_guide/indexing.html#returning-a-view-versus-a-copy\n",
      "  cb_players['Class'] = cb_players['Overall'].apply(classify_player)\n"
     ]
    },
    {
     "name": "stdout",
     "output_type": "stream",
     "text": [
      "Best k for World Class: 1 with F1 score: 0.6363636363636365\n",
      "Best k for Good: 4 with F1 score: 0.8218085106382979\n"
     ]
    }
   ],
   "source": [
    "from sklearn.model_selection import train_test_split\n",
    "from sklearn.neighbors import KNeighborsClassifier\n",
    "from sklearn.metrics import classification_report, f1_score\n",
    "\n",
    "# Step 1: Create a subset of players who can play in central defence (CB)\n",
    "cb_players = df[df['Preferred Positions'].str.contains('CB', na=False)]\n",
    "\n",
    "# Step 2: Classify these players into three categories based on their overall score\n",
    "def classify_player(overall):\n",
    "    if overall >= 80:\n",
    "        return 'World Class'\n",
    "    elif 70 <= overall < 80:\n",
    "        return 'Good'\n",
    "    else:\n",
    "        return 'Mediocre'\n",
    "\n",
    "cb_players['Class'] = cb_players['Overall'].apply(classify_player)\n",
    "\n",
    "# Step 3: Prepare the data for the KNN classifier\n",
    "X = cb_players.drop(columns=['Name', 'Nationality', 'Preferred Positions', 'Preferred Positions Type', 'Class'])\n",
    "y = cb_players['Class']\n",
    "\n",
    "# Convert categorical features to numeric\n",
    "X = X.apply(pd.to_numeric, errors='coerce')\n",
    "X.fillna(0, inplace=True)\n",
    "\n",
    "# Encode the target labels\n",
    "label_encoder = LabelEncoder()\n",
    "y = label_encoder.fit_transform(y)\n",
    "\n",
    "# Step 4: Split the data into training and test sets\n",
    "X_train, X_test, y_train, y_test = train_test_split(X, y, test_size=0.33, random_state=911)\n",
    "\n",
    "# Step 5: Train and evaluate KNN models with k varying from 1 to 5\n",
    "best_f1_scores = {'World Class': 0, 'Good': 0}\n",
    "best_k = {'World Class': 0, 'Good': 0}\n",
    "\n",
    "for k in range(1, 6):\n",
    "    knn = KNeighborsClassifier(n_neighbors=k)\n",
    "    knn.fit(X_train, y_train)\n",
    "    y_pred = knn.predict(X_test)\n",
    "    \n",
    "    report = classification_report(y_test, y_pred, target_names=label_encoder.classes_, output_dict=True)\n",
    "    \n",
    "    world_class_f1 = report['World Class']['f1-score']\n",
    "    good_f1 = report['Good']['f1-score']\n",
    "    \n",
    "    if world_class_f1 > best_f1_scores['World Class']:\n",
    "        best_f1_scores['World Class'] = world_class_f1\n",
    "        best_k['World Class'] = k\n",
    "    \n",
    "    if good_f1 > best_f1_scores['Good']:\n",
    "        best_f1_scores['Good'] = good_f1\n",
    "        best_k['Good'] = k\n",
    "\n",
    "print(f\"Best k for World Class: {best_k['World Class']} with F1 score: {best_f1_scores['World Class']}\")\n",
    "print(f\"Best k for Good: {best_k['Good']} with F1 score: {best_f1_scores['Good']}\")"
   ]
  },
  {
   "cell_type": "code",
   "execution_count": null,
   "id": "93164cb8-6ccd-47a5-a666-e2469eebf803",
   "metadata": {},
   "outputs": [],
   "source": []
  }
 ],
 "metadata": {
  "kernelspec": {
   "display_name": "Python 3 (ipykernel)",
   "language": "python",
   "name": "python3"
  },
  "language_info": {
   "codemirror_mode": {
    "name": "ipython",
    "version": 3
   },
   "file_extension": ".py",
   "mimetype": "text/x-python",
   "name": "python",
   "nbconvert_exporter": "python",
   "pygments_lexer": "ipython3",
   "version": "3.11.7"
  }
 },
 "nbformat": 4,
 "nbformat_minor": 5
}
